{
  "nbformat": 4,
  "nbformat_minor": 0,
  "metadata": {
    "colab": {
      "provenance": []
    },
    "kernelspec": {
      "name": "python3",
      "display_name": "Python 3"
    },
    "language_info": {
      "name": "python"
    }
  },
  "cells": [
    {
      "cell_type": "markdown",
      "source": [
        "# Amatomia de um Ataque Complexo\n",
        "\n",
        "![foto1](https://hermes.dio.me/articles/cover/1cbcdabb-53b4-4800-a0ac-6ab9319d1795.jpg)"
      ],
      "metadata": {
        "id": "nlbWK2WrKgJ1"
      }
    },
    {
      "cell_type": "markdown",
      "source": [
        "## Definição de ataque"
      ],
      "metadata": {
        "id": "fTgwPxDaM7Dw"
      }
    },
    {
      "cell_type": "markdown",
      "source": [
        "Segundo o NIST (National Institute of Standards and Tecnology) um ataque cibernético é \"uma tentativa de obter acesso não autorizado a serviços, recursos ou informações do sistema, ou uma tentativa de comprometer a integridade, disponibilidade e/ou confidencialidade do sistema\"\n",
        "\n",
        "1. Tentativa de acesso não autorizado\n",
        "- Ex.: invasão de sistemas, exploração de vulnerabilidades, bypass de autenticação.\n",
        "\n",
        "2. Objetivo de comprometer:\n",
        "\n",
        " - Confidencialidade → acessar dados sem permissão.\n",
        "\n",
        " - Integridade → alterar ou corromper dados.\n",
        "\n",
        " - Disponibilidade → tornar serviços ou sistemas indisponíveis (ex: ataques DDoS).\n",
        "\n",
        "3. Alvo:\n",
        "\n",
        "- Serviços, recursos ou informações do sistema.\n",
        "\n",
        "Compreender a anatomia de um ataque cibernético requer a análise de três fatores principais: **vulnerabilidades do sistema**, **técnicas de ataque utilizadas** e a **motivação dos atacantes**.  \n",
        "A junção desses fatores ajuda a entender **como os ataques ocorreram e quais objetivos foram alcançados**, sejam eles financeiros, ideológicos ou recreativos."
      ],
      "metadata": {
        "id": "l4DfPsLaNi2U"
      }
    },
    {
      "cell_type": "markdown",
      "source": [
        "## Vunerabilidades"
      ],
      "metadata": {
        "id": "C37aFZJ4NaJb"
      }
    },
    {
      "cell_type": "markdown",
      "source": [
        "### Softwares desatualizados\n",
        "![foto2](https://cdn.dribbble.com/userupload/33495594/file/original-43fb0b8018de1aad4904254681a23d09.png?resize=752x&vertical=center)"
      ],
      "metadata": {
        "id": "hZS8tzNVOxMT"
      }
    },
    {
      "cell_type": "markdown",
      "source": [
        "Softwares desatualizados podem conter vulnerabilidades conhecidas exploradas por atacantes. Manter os sistemas atualizados é essencial para garantir a segurança."
      ],
      "metadata": {
        "id": "NS5osWAzO912"
      }
    },
    {
      "cell_type": "markdown",
      "source": [
        "### Configurações inadequedas\n",
        "\n",
        "![foto](https://osait.com.br/wp-content/uploads/2024/01/hand-point-form-with-password-red-padlock-scaled.jpg)"
      ],
      "metadata": {
        "id": "WTYXzV1iPLeC"
      }
    },
    {
      "cell_type": "markdown",
      "source": [
        "Configurações inadequadas, como senhas fracas ou permissões excessivas, podem permitir acessos não autorizados. É fundamental revisar e restringir configurações regularmente para reduzir riscos."
      ],
      "metadata": {
        "id": "5t17VfwvPUux"
      }
    },
    {
      "cell_type": "markdown",
      "source": [
        "### Falta de Treinamento dos Usuário\n",
        "\n",
        "![foto](https://lirp.cdn-website.com/08ff45e1/dms3rep/multi/opt/230627-3-640w.PNG)"
      ],
      "metadata": {
        "id": "yTSVOQZHPk8s"
      }
    },
    {
      "cell_type": "markdown",
      "source": [
        "A falta de treinamento adequado expõe os usuários a vulnerabilidades humanas, como cair em fraudes ou ataques de phishing. Investir em educação e conscientização é essencial para mitigar esses riscos."
      ],
      "metadata": {
        "id": "fD4EuWvFP5US"
      }
    },
    {
      "cell_type": "markdown",
      "source": [
        "## Tipos e técnicas de ataque utilizados"
      ],
      "metadata": {
        "id": "K2l6hgLUQpeB"
      }
    },
    {
      "cell_type": "markdown",
      "source": [
        "### Ataques de Phishing\n",
        "![foto](https://www.alvareztg.com/wp-content/uploads/2018/12/Phishing.jpg)"
      ],
      "metadata": {
        "id": "fHFqAD5_QzGA"
      }
    },
    {
      "cell_type": "markdown",
      "source": [
        "Ataques de phishing consistem no envio de mensagens fraudulentas, geralmente por e-mail, que se passam por comunicações legítimas. O objetivo é induzir os usuários a fornecer informações confidenciais, como senhas e dados bancários. Esses ataques frequentemente são personalizados, aumentando suas chances de sucesso."
      ],
      "metadata": {
        "id": "F6Oge-7NQ1fY"
      }
    },
    {
      "cell_type": "markdown",
      "source": [
        "## Ataques de Injeção\n",
        "![foto](https://www.simplilearn.com/ice9/free_resources_article_thumb/SQLnjection.png)"
      ],
      "metadata": {
        "id": "YXZ5tcoVRaOK"
      }
    },
    {
      "cell_type": "markdown",
      "source": [
        "Os ataques de injeção, como SQL Injection, ocorrem quando um atacante insere código malicioso em um campo de entrada de dados, explorando falhas na validação de entrada de aplicativos. Isso pode permitir o acesso não autorizado a dados sensíveis ou a manipulação do banco de dados."
      ],
      "metadata": {
        "id": "JG5TFhZ8RgSV"
      }
    },
    {
      "cell_type": "markdown",
      "source": [
        "## Evolução das Motivações dos Crackers"
      ],
      "metadata": {
        "id": "h-Dlid9mRj6u"
      }
    },
    {
      "cell_type": "markdown",
      "source": [
        "### Anos 80 e 90"
      ],
      "metadata": {
        "id": "9WDD__CoRuGv"
      }
    },
    {
      "cell_type": "markdown",
      "source": [
        "- Motivação: Desafio intelectual e curiosidade técnica\n",
        "\n",
        "- Características: Exploração por reconhecimento e prestígio na comunidade\n",
        "\n",
        "- Exemplo: Grupos como Legion of Doom e Chaos Computer Club\n",
        "\n"
      ],
      "metadata": {
        "id": "FwpRToeZRuWe"
      }
    },
    {
      "cell_type": "markdown",
      "source": [
        "### Anos 2000"
      ],
      "metadata": {
        "id": "6ATeURd2Rugw"
      }
    },
    {
      "cell_type": "markdown",
      "source": [
        "- Motivação: Lucro financeiro através de fraudes e roubo de dados\n",
        "\n",
        "- Características: Surgimento do crime organizado cibernético\n",
        "\n",
        "- Estatística: Crescimento de 300% em fraudes online (FBI, 2005)"
      ],
      "metadata": {
        "id": "jr4jF2n1Ru5K"
      }
    },
    {
      "cell_type": "markdown",
      "source": [
        "### Anos 2010"
      ],
      "metadata": {
        "id": "AxichgLRSQP6"
      }
    },
    {
      "cell_type": "markdown",
      "source": [
        "- Motivação: Espionagem geopolítica e guerra cibernética\n",
        "\n",
        "- Características: Ataques patrocinados por estados-nação\n",
        "\n",
        "- Exemplo: Stuxnet, APT29, Equation Group"
      ],
      "metadata": {
        "id": "dPpZvZi0SQZb"
      }
    },
    {
      "cell_type": "markdown",
      "source": [
        "### Atualmente"
      ],
      "metadata": {
        "id": "aOVJbTRISQik"
      }
    },
    {
      "cell_type": "markdown",
      "source": [
        "- Motivação: Híbrida (financeira, política, ideológica)\n",
        "\n",
        "- Características: Ransomware como serviço, extorsão dupla\n",
        "\n",
        "- Estatística: 83% das organizações sofreram mais de um vetor de ataque simultâneo (Accenture, 2023)\n",
        "\n"
      ],
      "metadata": {
        "id": "ROPWXkC6SQre"
      }
    },
    {
      "cell_type": "markdown",
      "source": [
        "## Conclusão"
      ],
      "metadata": {
        "id": "gX-4yKtjVsNG"
      }
    },
    {
      "cell_type": "markdown",
      "source": [
        "A anatomia dos ataques cibernéticos modernos demonstra sofisticação crescente com motivações complexas e multi-camadas. A defesa eficaz requer abordagem holística combinando:\n",
        "\n",
        "Atualização contínua de sistemas\n",
        "\n",
        "Configurações robustas seguindo hardening guidelines\n",
        "\n",
        "Educação constante de usuários\n",
        "\n",
        "Monitoramento proativo baseado em inteligência de ameaças\n",
        "\n",
        "Plano de resposta a incidentes testado regularmente\n",
        "\n",
        "A segurança cibernética deixou de ser problema exclusivamente técnico para se tornar desafio estratégico organizacional que requer investimento contínuo e adaptação evolutiva.\n",
        "\n"
      ],
      "metadata": {
        "id": "CqlJfAGFVutt"
      }
    },
    {
      "cell_type": "code",
      "source": [],
      "metadata": {
        "id": "H0OV0TxzVwCN"
      },
      "execution_count": null,
      "outputs": []
    }
  ]
}