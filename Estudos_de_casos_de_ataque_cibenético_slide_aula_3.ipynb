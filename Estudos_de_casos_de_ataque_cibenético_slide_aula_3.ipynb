{
  "nbformat": 4,
  "nbformat_minor": 0,
  "metadata": {
    "colab": {
      "provenance": []
    },
    "kernelspec": {
      "name": "python3",
      "display_name": "Python 3"
    },
    "language_info": {
      "name": "python"
    }
  },
  "cells": [
    {
      "cell_type": "markdown",
      "source": [
        "# Ataque a NPM"
      ],
      "metadata": {
        "id": "Eb-zxfAxb82a"
      }
    },
    {
      "cell_type": "markdown",
      "source": [
        "![image](https://cdn.buttercms.com/NFhF3dWBTf5wPnfTsdjR)"
      ],
      "metadata": {
        "id": "8Uh8Yr6fsgOy"
      }
    },
    {
      "cell_type": "markdown",
      "source": [
        "## Data do ataque"
      ],
      "metadata": {
        "id": "ylIj6iwzdgH5"
      }
    },
    {
      "cell_type": "markdown",
      "source": [
        "8 de setembro de 2025 (ataque inicial detectado)."
      ],
      "metadata": {
        "id": "zx6l-tsbftXF"
      }
    },
    {
      "cell_type": "markdown",
      "source": [
        "## Tipo de ataque\n"
      ],
      "metadata": {
        "id": "mYl2e0indj0q"
      }
    },
    {
      "cell_type": "markdown",
      "source": [
        "Ataque de cadeia de suprimentos (supply chain) com injeção de malware em pacotes npm, combinado com phishing para comprometer contas de mantenedores."
      ],
      "metadata": {
        "id": "pSwL6DZ1fyrz"
      }
    },
    {
      "cell_type": "markdown",
      "source": [
        "## Descrição"
      ],
      "metadata": {
        "id": "BtV5fkn9doDn"
      }
    },
    {
      "cell_type": "markdown",
      "source": [
        "O maior ataque a cadeida de suprimentos da história do npm, gerenciador de pacotes do JavaScript, comprometeu 18 pacotes fundamentais do JavaScript, como o chalk, debug e ansi-styles, que represetam mais de 2.6 bilhoẽs de downloands semanais.\n",
        "\n",
        "Josh Junon, responsável por manter esses pacotes, teve sua conta npm comprometida através de um ataque de phishing em seu email.\n",
        "\n",
        "O ataque iniciou quando Junon recebeu um e-mail fraudulento que ameaçava bloquear contas de mantenedores em 10 de setembro, solicitando atualização das credenciais 2FA para induzir o clique no link malicioso.\n",
        "\n",
        "Nos e-mails, os invasores ameaçaram que as contas dos mantenedores visados ​​seriam bloqueadas em 10 de setembro de 2025, como uma tática de intimidação para fazê-los clicar no link que os redirecionaria para os sites de phishing.\n",
        "\n",
        "\n",
        "![image](https://www.bleepstatic.com/images/news/u/1109292/2025/phishing-email.jpg)\n",
        "\n",
        "Ao clicar no link malicioso, os mantenedores foram redirecionados para uma página de phishing que roubou suas credenciais e tokens de autenticação.\n",
        "\n",
        "Com o acesso às contas, os invasores publicaram versões maliciosas de alguns pacotes que totalizam 2,6 bilhões de downloads semanais. O código injetado era altamente ofuscado e atuava como um interceptador no navegador, projetado para:\n",
        "\n",
        "- Monitorar transações de criptomoedas (Ethereum, Bitcoin, Solana, Tron, Litecoin e Bitcoin Cash).\n",
        "\n",
        "- Substituir endereços de carteira legítimos por endereços controlados pelos invasores em tempo real.\n",
        "\n",
        "O malware operava silenciosamente, alterando transações antes da assinatura pelo usuário, sem deixar sinais evidentes de comprometimento.\n"
      ],
      "metadata": {
        "id": "VaY_480Pg7LW"
      }
    },
    {
      "cell_type": "markdown",
      "source": [
        "## Vunerabilidade explorada"
      ],
      "metadata": {
        "id": "2NpxrMYndo5_"
      }
    },
    {
      "cell_type": "markdown",
      "source": [
        "Engenharia social e phishing: Exploração da confiança ao se utilizar comunicações aparentemente legítimas.\n",
        "\n",
        "Falha na autenticação de dois fatores (2FA): O 2FA foi contornado pois as vitimas forneceram voluntariamente os tokens no site de phishing.\n",
        "\n",
        "Falta de verificações adicionais para publicações em pacotes críticos: A plataforma npm não exigia confirmações adicionais, como a aprovação de múltiplos colaboradores, para atualizações em pacotes de alto impacto."
      ],
      "metadata": {
        "id": "zVL9x1cViad2"
      }
    },
    {
      "cell_type": "markdown",
      "source": [
        "## Impactos e/ou prejuízo"
      ],
      "metadata": {
        "id": "41JUr4BQdo8o"
      }
    },
    {
      "cell_type": "markdown",
      "source": [
        "- Pacotes com 2,6 bilhões de downloads semanais foram comprometidos, afetando milhares de aplicações em todo o mundo, desde startups até grandes empresas.\n",
        "\n",
        "- Transações de criptomoedas foram redirecionadas para carteiras controladas pelos invasores. O prejuízo potencial é difícil de estimar pois não existem dados ainda sobre quais clientes foram afetados, mas pode chegar a milhões de dólares.\n",
        "\n",
        "- Danos à confiança no ecossistema de código aberto: O incidente expõe a fragilidade de dependências críticas mantidas por voluntários, que são alvos frequentes de ataques."
      ],
      "metadata": {
        "id": "ZEEBnC3-mPtq"
      }
    },
    {
      "cell_type": "markdown",
      "source": [
        "## Tipo de proteção que poderia ter sido aplicada"
      ],
      "metadata": {
        "id": "UYXJJagLdo-7"
      }
    },
    {
      "cell_type": "markdown",
      "source": [
        "Treinamento contra phishing para mantenedores de projetos críticos.\n",
        "\n",
        "Revisão por pares para atualizações em pacotes de alto impacto.\n",
        "\n",
        "Integração de verificações automatizadas no pipeline de CI/CD para bloquear dependências maliciosas."
      ],
      "metadata": {
        "id": "M_cL6lLmmTuC"
      }
    },
    {
      "cell_type": "markdown",
      "source": [
        "## Fonte"
      ],
      "metadata": {
        "id": "2Qiy4G9hliOV"
      }
    },
    {
      "cell_type": "markdown",
      "source": [
        "https://www.bleepingcomputer.com/news/security/hackers-hijack-npm-packages-with-2-billion-weekly-downloads-in-supply-chain-attack/\n",
        "\n",
        "https://sek.io/comunicado-emergencial-maior-ataque-a-cadeia-de-suprimentos-npm-da-historia-atinge-pacotes-com-26-bilhoes-de-downloads-semanais/"
      ],
      "metadata": {
        "id": "4SIeVsNpmWvj"
      }
    },
    {
      "cell_type": "markdown",
      "source": [
        "# Ataque a Kaseya"
      ],
      "metadata": {
        "id": "Pbt_1UjrdpBx"
      }
    },
    {
      "cell_type": "markdown",
      "source": [
        "![image](https://static.wixstatic.com/media/05bf39_ce4d0e39d05947d3be34460a34d57d62~mv2.png/v1/fill/w_1080,h_800,al_c/kaseya.png)"
      ],
      "metadata": {
        "id": "C704OHMmsM6V"
      }
    },
    {
      "cell_type": "markdown",
      "source": [
        "## Data do ataque"
      ],
      "metadata": {
        "id": "FfDorestdpEY"
      }
    },
    {
      "cell_type": "markdown",
      "source": [
        "O ataque foi iniciado em 2 de julho de 2021.\n",
        "\n"
      ],
      "metadata": {
        "id": "WWk9fhBPm0y-"
      }
    },
    {
      "cell_type": "markdown",
      "source": [
        "## Tipo do Ataque"
      ],
      "metadata": {
        "id": "tNqDetoQdpHR"
      }
    },
    {
      "cell_type": "markdown",
      "source": [
        "Ataque de Cadeia de Suprimentos (Supply Chain) seguido de Ransomware.\n"
      ],
      "metadata": {
        "id": "yVTxlt5em38A"
      }
    },
    {
      "cell_type": "markdown",
      "source": [
        "## Descrição"
      ],
      "metadata": {
        "id": "Jzoy2xWYdpJt"
      }
    },
    {
      "cell_type": "markdown",
      "source": [
        "O grupo de ransomware REvil explorou uma vulnerabilidade zero-day no software de gerenciamento de TI da Kaseya, chamado Kaseya VSA (Virtual System/Server Administrator), programa que permite às empresa administrar redes de computadores.\n",
        "\n",
        "Os atacantes comprometeram os servidores da Kaseya e usaram o mecanismo de atualização legítimo da empresa para distribuir uma versão maliciosa de um pacote de software para os clientes da Kaseya (que são principalmente MSPs - Provedores de Serviços Gerenciados). Quando os clientes instalaram a atualização, o ransomware foi implantado em suas redes e, subsequentemente, se espalhou para os sistemas de seus clientes (empresas finais). Estima-se que entre cerca de 1.500 empresas tenham sido afetadas indiretamente."
      ],
      "metadata": {
        "id": "ImaJItPMnIWh"
      }
    },
    {
      "cell_type": "markdown",
      "source": [
        "## Vunerabilidade explorada"
      ],
      "metadata": {
        "id": "a6vBSliVdpML"
      }
    },
    {
      "cell_type": "markdown",
      "source": [
        "CVE-2021-30116: Vulnerabilidade de bypass de autenticação que permitia que um atacante não autenticado executasse comandos arbitrários no servidor VSA.\n",
        "\n",
        "Como fuciona essa vunerabilidade:\n",
        "- Quando um invasor baixa um cliente do Kaseya VSA é gerando em seu SO um Agent_Guid e AgentPassword.\n",
        "- Com o Agente_Guid e AgentPassword o atacante podia fazer login no site que baixava o VSA e obtia um cookie sessionld que podia ser usada em ataque aos sitemas da empresa sem a necessidade de realizar autenticação.\n",
        "\n",
        "Vunerabilidades encontradas:\n",
        "- Página de download do VSA vaza credenciais sem necessidade de autenticação.\n",
        "- Credencias do sofware podem ser usadadas para obter cookie que pode ser usados para outros serviços fora do objetivo do VSA\n",
        "- As credenciais do VSA dava ao invasor acesso a informações para penetrar na instalação do Kaseya e em seus clientes."
      ],
      "metadata": {
        "id": "JyFOr4mXnKgM"
      }
    },
    {
      "cell_type": "markdown",
      "source": [
        "## Impactos e/ou prejuízo"
      ],
      "metadata": {
        "id": "s9yLu2FXdpPZ"
      }
    },
    {
      "cell_type": "markdown",
      "source": [
        "Alcance em Cascata: O ataque não atingiu apenas a Kaseya, mas explodiu através de sua cadeia de suprimentos, afetando dezenas de seus clientes e, por sua vez, centenas de clientes das empresas clientes. Por exemplo:\n",
        "A rede de supermercados sueca Coop foi uma das vítimas indiretas do ciberataque. A empresa ficou alguns dias sem conseguir usar sua rede de caixas registradoras, já que a empresa para a qual terceirizou o serviço de informática, a Visma Esscom, foi vítima do ataque.\n",
        "\n",
        "Paralisação de Negócios: Supermercados, escolas, creches e empresas de diversos setores em pelo menos 17 países tiveram suas operações paralisadas.\n",
        "\n",
        "Demanda de Resgate Extorsivo: O grupo REvil inicialmente demandou um resgate de US$ 70 milhões em Bitcoin para fornecer o decryptor universal para todas as vítimas.\n",
        "\n",
        "Custo Financeiro: A Kaseya estimou que os custos relacionados ao ataque foram de aproximadamente 6 a 8 milhões de doláres em gastos diretos com a resposta ao incidente, além dos danos incalculáveis à reputação e aos negócios dos clientes afetados."
      ],
      "metadata": {
        "id": "NXTTSvZ0nSDb"
      }
    },
    {
      "cell_type": "markdown",
      "source": [
        "## Tipo de proteção que poderia ter sido aplicada"
      ],
      "metadata": {
        "id": "rFVYgLGvdpRi"
      }
    },
    {
      "cell_type": "markdown",
      "source": [
        "Segmentação de Rede Rigorosa: Isolar os servidores VSA da internet e de outras partes críticas da rede poderia ter contido o avanço do ataque.\n",
        "\n",
        "Aplicação Imediata de Patches: A Kaseya estava ciente das vulnerabilidades e havia preparado um patch, que estava programado para ser lançado no fim de semana do ataque. Um processo mais ágil de teste e implantação de patches críticos poderia ter fechado a janela de oportunidade.\n",
        "\n",
        "Monitoramento de Comportamento de Rede: Ferramentas de detecção poderiam ter identificado a comunicação anômala dos servidores VSA com os servidores dos atacantes.\n",
        "\n",
        "Princípio do Menor Privilégio: Restringir ao máximo as permissões dos sistemas e usuários para dificultar a movimentação lateral dos invasores.\n",
        "\n",
        "Backups Imutáveis e Offline: Manter cópias de backups regulares que não possam ser alteradas ou criptografadas pelo ransomware, permitindo a recuperação sem pagar resgate.\n",
        "\n"
      ],
      "metadata": {
        "id": "RKTx0KQPnYWV"
      }
    },
    {
      "cell_type": "markdown",
      "source": [
        "## Fonte"
      ],
      "metadata": {
        "id": "JqGbXiosdpUP"
      }
    },
    {
      "cell_type": "markdown",
      "source": [
        "[CVE](https://nvd.nist.gov/vuln/detail/CVE-2021-30116)\n",
        "\n",
        "https://g1.globo.com/economia/tecnologia/noticia/2021/07/06/empresa-de-ti-vitima-de-ciberataque-nos-eua-calcula-que-outras-1500-companhias-foram-afetadas.ghtml\n",
        "\n",
        "https://vaultone.com/pt-br/ataque-kaseya-entenda-tudo-sobre-o-incidente/\n",
        "\n",
        "https://www.ksecurity.com.br/criminosos-exigem-pagamento-de-us-70-milhoes-apos-ataque-cibernetico-a-kaseya/\n",
        "\n",
        "https://www.watchguard.com/br/wgrd-news/blog/msp-principais-vitimas-do-ataque-de-ransomware-kaseya"
      ],
      "metadata": {
        "id": "emYtPaEHqPyn"
      }
    }
  ]
}