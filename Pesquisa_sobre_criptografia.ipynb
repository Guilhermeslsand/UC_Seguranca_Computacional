{
  "cells": [
    {
      "cell_type": "markdown",
      "metadata": {
        "id": "IhQcmecWqlDO"
      },
      "source": [
        "# Pesquisa sobre Criptografia"
      ]
    },
    {
      "cell_type": "markdown",
      "metadata": {
        "id": "ww60-EojrJDh"
      },
      "source": [
        "## Citala"
      ]
    },
    {
      "cell_type": "markdown",
      "metadata": {
        "id": "q714FxG5znr6"
      },
      "source": [
        "![imagem](https://upload.wikimedia.org/wikipedia/commons/5/51/Skytale.png)"
      ]
    },
    {
      "cell_type": "markdown",
      "metadata": {
        "id": "bZl3I1pNrWsY"
      },
      "source": [
        "Cítala foi um sistema de criptografia utilizada pelos espartanos para envio de mensagens secretas. A cítala é formada por dus varas de espessura variável e uma tira de couro ou papiro. A mensagem era então escrita ao longo do comprimento do bastão, uma letra por volta. Ao desenrolar a tira, as letras apareciam embaralhadas e a mensagem se tornava ilegível.\n",
        "\n",
        "A segurança do sistema dependia inteiramente do diâmetro exato do bastão. Quem possuísse um bastão com o mesmo diâmetro poderia enrolar a tira e ler a mensagem corretamente. Quem não tivesse, veria apenas uma sequência aparentemente aleatória de letras. Este é um primitivo, porém eficaz, exemplo de uma chave simétrica física.\n",
        "\n",
        "Importância Histórica: A Scitala é um marco por ser uma das primeiras formas de transposição (as letras mudam de posição, mas não sua identidade) em um dispositivo físico. Foi utilizada para comunicação militar em Esparta, demonstrando a necessidade prática de secretismo em operações de guerra desde a Antiguidade."
      ]
    },
    {
      "cell_type": "markdown",
      "metadata": {
        "id": "jxjsLHnDr0ue"
      },
      "source": [
        "## Type B Cipher Machine - PURPLE"
      ]
    },
    {
      "cell_type": "markdown",
      "metadata": {
        "id": "UvwvDDMezPkd"
      },
      "source": [
        "![image](https://media.defense.gov/2021/Aug/04/2002821821/1920/1080/0/210101-D-IM742-1129.JPG)"
      ]
    },
    {
      "cell_type": "markdown",
      "metadata": {
        "id": "b5TJRSVZr3_B"
      },
      "source": [
        "Type B Cipher Machine, também conhecida como Purple, foi uma máquina eletromecânica de criptografia usada pelo Ministério das Relações Exteriores do Japão (Japanese Foreign Office) de fevereiro de 1939 até o fim da Segunda Guerra Mundial. Era utilizada para criptografar as mensagens diplomáticas mais sensíveis do Japão, comunicando-se com embaixadas e consulados em todo o mundo, incluindo em Berlim e Washington D.C.\n",
        "\n",
        "A máquina PURPLE usava um princípio diferente das máquinas baseadas em rotores (como a Enigma alemã); ela utilizava comutadores de passo (stepping-switches), um tipo de componente mecânico comum em centrais telefônicas da época, sugerido pelo engenheiro Eikichi Suzuki.\n",
        "\n",
        "O mecanismo criptográfico tinha uma falha de projeto herdada da máquina anterior (RED), que a equipe de criptanálise americana soube explorar:\n",
        "\n",
        "Divisão do Alfabeto: As 26 letras do alfabeto (usado para telegrafia) eram separadas, por meio de um painel de conexões (plugboard), em dois grupos:\n",
        "  - Grupo dos Seis (Sixes): Seis letras com criptografia mais fraca.\n",
        "  - Grupo dos Vinte (Twenties): Vinte letras com criptografia mais complexa.\n",
        "\n",
        "Criptografia dos Seis:\n",
        "- O grupo dos seis era cifrado por um sistema polialfabético simples, com 25 alfabetos permutados fixos.\n",
        "\n",
        "Criptografia dos Vinte:\n",
        "- O grupo dos vinte passava por três estágios sucessivos (I, II e III) de comutadores de passo, conectados em série. Cada estágio realizava uma substituição complexa.\n",
        "\n",
        "Chave e Movimento:\n",
        "- O sistema de chave (parcialmente trocado diariamente e parcialmente a cada mensagem) era mais complexo que o da máquina RED, mas permitia que os criptanalistas americanos o atacassem. O movimento dos comutadores dos vinte era controlado, em parte, pelos comutadores dos seis, em uma ordem (rápido, médio, lento) que mudava a cada mensagem."
      ]
    },
    {
      "cell_type": "markdown",
      "metadata": {
        "id": "E5cPo-v-spGn"
      },
      "source": [
        "## Criptografia de Chaves Simétricas\n"
      ]
    },
    {
      "cell_type": "markdown",
      "metadata": {
        "id": "TLNeXjTE5xnh"
      },
      "source": [
        "### AES (Advanced Encryption Standard)"
      ]
    },
    {
      "cell_type": "markdown",
      "metadata": {
        "id": "qrAK4GbM6N-V"
      },
      "source": [
        "AES é um algoritmo de criptografia que utiliza chave simétrica para cifrar e decifrar os dados. É um criptogradia de bloco, ous seja, opera em blocos de tamanho fixo (128 bits, ou 16 bytes) usando chaves de 128, 192 ou 256 bits, ou seja, recebe como entradas um bloco de 128 bits (a mensagem) e uma chave do tamanho escolhido, e devolve uma saída também de 128 bits (a cifra). A função inversa (decifragem) recebe como entrada um bloco de 128 bits (a cifra) e devolve como saída um bloco de 128 bits. Se a chave for a chave correta, essa saída será idêntica à mensagem original.\n",
        "\n",
        "O algoritmo AES utilizada de operações de multiplicação, adição e XOR com matrizes para poder cifrar os dados originais. Esse processo é realizado em várias rodadas para garantir um segurança da informação e dificutar possíveis tentativas de quebrar a criptografia por força bruta.\n",
        "\n",
        "Algoritmo em pseudo código do AES:\n",
        "![image](https://i.sstatic.net/NHMrP.png)\n",
        "\n",
        "Fonte: Adaptado de NIST (stackoverflow)\n",
        "\n",
        "Onde é usado:\n",
        "- é comumente usada de várias maneiras, incluindo segurança sem fio, segurança do processador, criptografia de arquivo e SSL / TLS.\n",
        "\n"
      ]
    },
    {
      "cell_type": "markdown",
      "metadata": {
        "id": "Tlw6CD7Zq4Vb"
      },
      "source": [
        "#### Exemplo de código em python"
      ]
    },
    {
      "cell_type": "code",
      "execution_count": 22,
      "metadata": {
        "colab": {
          "base_uri": "https://localhost:8080/"
        },
        "id": "Da7_A5C6rCSR",
        "outputId": "184cb6bc-604d-4db3-b5d3-49d4107e83e2"
      },
      "outputs": [
        {
          "name": "stdout",
          "output_type": "stream",
          "text": [
            "Key: AxjCt2gKmPkQ4lNvFlNY3PnnZKpI0/QmyIEtbTaAU/I=\n",
            "Nonce: 4RrZKxidnhSI4Eox\n",
            "Texto cifrado: ttxku9kg4CBliyAbAqQF1jT9I5L7HK8wV+TsrHVsbkxh646IsHbG7jxRkwT7WSLQSFOlASk=\n",
            "Texto decifrado: Essa mensagem vai ser cifrada com AES\n"
          ]
        }
      ],
      "source": [
        "import os, base64\n",
        "from cryptography.hazmat.primitives.ciphers.aead import AESGCM\n",
        "\n",
        "# 1) Gerar chave\n",
        "key = AESGCM.generate_key(bit_length=256) # 256 bits\n",
        "\n",
        "aesgcm = AESGCM(key)\n",
        "\n",
        "# 2) Nonce\n",
        "# Usado para gerar valores diferentes para para cada cifragem\n",
        "nonce = os.urandom(12)  # 96 bits\n",
        "\n",
        "dados = \"Essa mensagem vai ser cifrada com AES\".encode(\"utf-8\")\n",
        "\n",
        "# Associated_data -> cabeçalho para adicionar mais uma cama de criptografia\n",
        "# Opcional\n",
        "aad = None\n",
        "\n",
        "# 4) Cifrar\n",
        "ciphertext = aesgcm.encrypt(nonce, dados, aad)\n",
        "\n",
        "print(\"Key:\", base64.b64encode(key).decode())\n",
        "print(\"Nonce:\", base64.b64encode(nonce).decode())\n",
        "print(\"Texto cifrado:\", base64.b64encode(ciphertext).decode())\n",
        "\n",
        "# 5) Decifrar\n",
        "decrypted = aesgcm.decrypt(nonce, ciphertext, aad)\n",
        "print(\"Texto decifrado:\", decrypted.decode(\"utf-8\"))"
      ]
    },
    {
      "cell_type": "markdown",
      "metadata": {
        "id": "LyRCfHXjt9-7"
      },
      "source": [
        "### ChaCha20 (AEAD)"
      ]
    },
    {
      "cell_type": "markdown",
      "metadata": {
        "id": "GFywBKUkx7In"
      },
      "source": [
        "O ChaCha20 é algoritmo de criptografia de fluxo (stream cipher) desenvolvido por Daniel J. Bernstein em 2008, como uma variante otimizada do algoritmo Salsa20. Ele é rápido, seguro e amplamente utilizado em protocolos modernos de criptografia.\n",
        "\n",
        "O ChaCha20 transforma uma chave secreta e um nonce (número aleatório único) em um fluxo pseudoaleatório de bits, que é então é realizado uma operação XOR com o texto original para gerar o texto cifrado (ou vice-versa, no caso de descriptografia).\n",
        "\n",
        "Ele não cifra diretamente os dados como o AES (bloco por bloco), mas gera um keystream de 64 bytes por vez e mistura os dados com ele.\n",
        "\n",
        "Onde usar:\n",
        "- É usado em TLS (HTTPS), VPNs, SSH, OpenSSH, WireGuard e até no TLS 1.3 como alternativa ao AES."
      ]
    },
    {
      "cell_type": "markdown",
      "metadata": {
        "id": "P2Mjr8M0ykpa"
      },
      "source": [
        "#### Exemplo de código em python"
      ]
    },
    {
      "cell_type": "code",
      "execution_count": 28,
      "metadata": {
        "colab": {
          "base_uri": "https://localhost:8080/"
        },
        "id": "YgrpoH_syp3L",
        "outputId": "317ea1e5-536c-45fc-8513-9ea812d02e82"
      },
      "outputs": [
        {
          "name": "stdout",
          "output_type": "stream",
          "text": [
            "Key: 5jCaI5ihWAAbRcZq5eTSy/EkG/DtmczSL8fyNpDD+7A=\n",
            "Nonce: 5veXIOocfP+9hHmXOB8hvQ==\n",
            "Texto cifrado: b'\\xcck\\xfa\\x84a\\xdcbk\\x17\\x14\\xf1A\\xc1\\xbf\\x01\\x92&\\xd8\\x9a\\x1f\\xb3\\x8b`\\xde\\x9eLG&\\xc2W\\x17\\xcbdo\\x1e\\xe8|8w9&\\xc4'\n",
            "Texto decifrado: Essa mensagem vai ser cifrada com Chacha20\n"
          ]
        }
      ],
      "source": [
        "from cryptography.hazmat.primitives.ciphers import Cipher, algorithms, modes\n",
        "import os\n",
        "\n",
        "# Gerar chave\n",
        "key = os.urandom(32)\n",
        "\n",
        "# Nonce de 16 bytes\n",
        "nonce = os.urandom(16)\n",
        "\n",
        "# Mensagem de exemplo\n",
        "mensagem =\"Essa mensagem vai ser cifrada com Chacha20\".encode(\"utf-8\")\n",
        "\n",
        "# Criação do cifrador\n",
        "algorithm = algorithms.ChaCha20(key, nonce)\n",
        "cipher = Cipher(algorithm, mode=None)\n",
        "encryptor = cipher.encryptor()\n",
        "\n",
        "# Cifrar\n",
        "cifrado = encryptor.update(mensagem)\n",
        "print(\"Key:\", base64.b64encode(key).decode())\n",
        "print(\"Nonce:\", base64.b64encode(nonce).decode())\n",
        "print(\"Texto cifrado:\", cifrado)\n",
        "\n",
        "# Decifrar (usa a mesma chave e nonce)\n",
        "decryptor = cipher.decryptor()\n",
        "decifrado = decryptor.update(cifrado)\n",
        "print(\"Texto decifrado:\", decifrado.decode(\"utf-8\"))"
      ]
    },
    {
      "cell_type": "markdown",
      "metadata": {
        "id": "MorHz7Rrr9hT"
      },
      "source": [
        "## Criptografias de Chaves Assimétricas"
      ]
    },
    {
      "cell_type": "markdown",
      "metadata": {
        "id": "B7ZE7Geq1bD4"
      },
      "source": [
        "### RSA"
      ]
    },
    {
      "cell_type": "markdown",
      "metadata": {
        "id": "5CB4UzIhB3oE"
      },
      "source": [
        "Algoritmo RSA é um algoritmo de criptografia criado por Rivest, Shamir e Adleman. A segurança desse algoritmo se baseia na dificuldade de fatoração de números primos grandes, pois para um atacante saber a chave privada D, ele teria que saber quais foram os primos P e Q que foram utilizados para achar o N, para assim calcular o Phi(N). Como o RSA utiliza números de 2048 bits, significa então 2²⁰⁴⁸ possibilidades, ou seja, 10⁶¹⁷ sendo extremamente maior do que a quantidade de átomos no universo observável, que estima-se ser na ordem de grandeza de 10⁸¹. Fazer a multiplicação de dois números primos de 2048 bits é facil (computacionalmente falando), porém para achar os números primos originários de um N de 4096 bits é preciso fatorar, algo que é computacionalmente inviável, levando milhares de anos para achar os dois números primos que foram multiplicados para dar o N. Sendo assim um algoritmo seguro para comunicação na internet.\n",
        "\n",
        "As aplicações deste algoritmo vão desde o Login que você faz no Facebook, até as chaves que são utilizadas por um servidor SSH.\n",
        "\n",
        "Exemplo de execução do algoritmo\n",
        "\n",
        "1º Passo:\n",
        "\n",
        "Para gerar a chva pública precisa primeiramente gerar dois múmeros que vamos chamar de P e Q. P e Q precisam ser primos e muito grandes. Contudo, para esse exemplo vou usar número s pequenos para facilitar os cálculos.\n",
        "\n",
        "- P = 17 e Q = 41.\n",
        "\n",
        "2º Passo:\n",
        "\n",
        "Agora calcularemos o N, sendo a multiplicação de P e Q.\n",
        "\n",
        "- N = P * Q = 17 * 41 = 697\n",
        "- N = 697\n",
        "\n",
        "3º Passo:\n",
        "\n",
        "Utilizaremos agora a função totiente de Euller, também chamada de phi, no N. Como P e Q são primos, phi é P -1 * Q-1.\n",
        "\n",
        "- Phi(N) = Phi(P) * Phi(Q)\n",
        "- Phi(N) = (P-1) * (Q-1)\n",
        "- Phi(N) = (17–1) * (41–1) = 640\n",
        "- Phi(N) = 640.\n",
        "\n",
        "4º Passo:\n",
        "\n",
        "Agora teremos que achar um outro número Aleatório E, que tem que satisfazer as condições: ser maior que 1 e menor que Phi(N), e também ser primo entre Phi(N).\n",
        "\n",
        "- 1 < E < Phi(N) => 1 < E < 640\n",
        "- mdc(640, E) == 1\n",
        "- E = 13\n",
        "- 1 < 13 < 640 e mdc(640, 13) == 1 (Condições atendidas)\n",
        "\n",
        "5º Passo:\n",
        "\n",
        "A chave pública é composta pelo N e o E, 697 e 13 respectivamente. Agora criptografar o nosso texto que será enviado. Transformaremos os caracteres em ASCII, podendo assim fazer operações aritméticas com os valores das letras.\n",
        "\n",
        "- Mensagem = ‘oi’\n",
        "- ASCII(‘o’) == 111\n",
        "- ASCII(‘i’) == 105\n",
        "\n",
        "6º Passo:\n",
        "\n",
        "Para criptografar devemos seguir o seguinte algoritmo: Para cada caracter, elevaremos seu valor em ASCII por E e faremos a operação modular com N.\n",
        "\n",
        "- Valor cifrado de ‘o’ == 111 ^ 13 = 388328016259855395064461231\n",
        "- 388328016259855395064461231 mod 697 = 110\n",
        "- Valor cifrado de ‘o’ == 110\n",
        "- Valor cifrado de ‘i’ == 105 ^ 13 = 188564914232323560791015625\n",
        "- 188564914232323560791015625 mod 697 = 318\n",
        "- Valor cifrado de ‘i’ == 318\n",
        "- Mensagem cifrada = [110, 318] é enviada para o servidor.\n",
        "\n",
        "7º Passo:\n",
        "\n",
        "Agora devemos achar a chave privada que será usada para descriptografar a Mensagem cifrada enviada pelo cliente. A chave privada é chamada de D e é encontrada seguindo o algoritmo:\n",
        "\n",
        "- D * E mod Phi(N) == 1\n",
        "- D * 13 mod 640 == 1\n",
        "- D = 197\n",
        "\n",
        "8º Passo:\n",
        "\n",
        "Usaremos o D para descriptografar a Mensagem cifrada, para cada número da mensagem, iremos elevalo por D e fazer a operação modular por N.\n",
        "\n",
        "- Mensagem cifrada = [110, 318]\n",
        "- 110 ^ 197 mod (N) == 111\n",
        "- 317 ^ 197 mod (N) == 105\n",
        "- 111 == ASCII(‘o’)\n",
        "- 105 == ASCII(‘i’)\n"
      ]
    },
    {
      "cell_type": "markdown",
      "metadata": {
        "id": "cMNhd8gAGk-e"
      },
      "source": [
        "#### Exemplo de código em python"
      ]
    },
    {
      "cell_type": "code",
      "execution_count": 34,
      "metadata": {
        "colab": {
          "base_uri": "https://localhost:8080/"
        },
        "id": "Nnezx07uFH-b",
        "outputId": "67cd7bc8-3b5d-416c-fb71-e667fbbf4521"
      },
      "outputs": [
        {
          "name": "stdout",
          "output_type": "stream",
          "text": [
            "Private Key (base64): AlEFFJlUTgIq7DeOsKyZ0ldp2/nQCYjSg1JuV44LGk/NZBa2K1bJFkOpOStY0l2z2Zi1Su8AxLq7jDa44TGwkIsyxfIvYBidTAEdI96KYBCmE6ugVSZVsdNFExIkH0zIvpsTAxLTeZi50VBtKjRl+7pD358EwjBSUfcdmpzIKn5XeJx5fw9G1eiZOELG+LfiJvlLhe0CAFFo3/TDiRx3qqQAaLJwqEXxN5P16l+ozxAlh8HRZvsCd1X4QQAgAXAbnzO43ioVzVILH3gRlnlGB7RZXG5li0/w7A8u1sbscm9jGoC/1kxeQ9kau60IzdiFRGhyM+aTHz0l3cj/pBgNwQ==\n",
            "Public Key (base64): sIePXZd8031M6h1xL2q3DXchKGLU8MbcUnBrwQH7V8kjsED4RokOmdKZ2OBxoE4OFGhzZBtMIAAVHnFxF2NZ95g0uzmL/Z2WNkyLmrIVBHjl5k/HE9hc7AuUV+DNOp0vckDHfGE0hDoreO2v0NZhrLmhTkGZ9ZrxM6Cdr74l4vxK7ID+spfslPSE01rmAUHOHsjfM4GRb+OWj+LxdaZzGnFxYRSFrCBcXCGzSpiJIyP0S8a2LLceCBfCBKvRxgUYkSiyTBSHNEQMW40OSfOQnTQfI2X8JBUMdKjYJX9mzO/I0ePtlv3Lehi92Ev6oOKx6iqPlAiS/RbcbHEe6GZoSQ==\n",
            "Texto cifrado: b'\\x91\\x8dY\\x9c\\xa25\\xbf\\xab\\xfe\\xe2H S\\xb6\\xc1j\\xfc}\\x18B\\n\\x80\\x93\\xec\\r\\x1f\\xf7?k\\x16\\xce`w\\x8a\\xc4\\x1c`\\xd2^\\xc0\\xf3\\xbc\\x19\\xec6`\\x0c\\xd3\\xfe\\xe8\\xfa\\xbf\\x0cP\\xacH\\xd1TZ\\xa9\\x90\\xe3$\\xcdl\\xaa\\x17S[\\xd7\\x80W\\x98\\xc6\\x0f\\x99`\\xc7\\x13\\xe1\\xfa7\\t\\x19MH4\\x18\\xdf\\xad*)^\\xa8\\xa9\\xaeg\\xf4\\xef\\xf2\\xb2\\xd1\\x1c\\x06\"\\xf6\\\\\\x97P}\\xc2b\\xect\\xa3\\xbb\\xfa\\x1d5\\x15\\xab+\\xd9\\x86Q\\x06\\x125\\x11l \\xf7\\x9bZ<-\\xbdcM\\n\\xd8\\xd1\\xfat\\xbb\\x1a\\xf4\\x7f\\xb1Q\\x0f {b\\xd28\\x8b\\x10\\x9e8\\xee\\x97\\xd5\\xb5\\'\\xca\\xc9\\'\\x8f\\x89z\\xf2\\xae\\xb4\\xe4-=\\xd8\\x9b\\xdeY\\\\\\xa61\\xc6\\xd0\\xaeU\\xc7?3=/)\\xfe\\x95\\x89R\\x87\\x10&\\x8b\\x0fqU\\xe3\\xc5c?\\x8f\\x1dy\\xb2\"R\\xd7\\x87\\xae\\x0cu\\xfc4\\x0f\\xf5\\xed\\x1d\\xed%\\x9b\\x1b7\\xeb\\xf0\\x9a\\x95\\x81\\xd6\\x15\\x8e0\\xcc\\x88\\xaa8\\xbb\\xe8\\x02\\xad\\xc5\\xb0\\x97\\x7f8\\x17\\xeae'\n",
            "Texto decifrado: Mensagem secreta com RSA!\n"
          ]
        }
      ],
      "source": [
        "import base64\n",
        "from cryptography.hazmat.primitives.asymmetric import rsa, padding\n",
        "from cryptography.hazmat.primitives import hashes\n",
        "\n",
        "# 1️⃣ Gerar chave privada\n",
        "private_key = rsa.generate_private_key(\n",
        "    public_exponent=65537,\n",
        "    key_size=2048\n",
        ")\n",
        "\n",
        "# 2️⃣ Extrair chave pública\n",
        "public_key = private_key.public_key()\n",
        "\n",
        "# 3️⃣ Mensagem original\n",
        "mensagem = \"Mensagem secreta com RSA!\".encode(\"utf-8\")\n",
        "\n",
        "# 4️⃣ Cifrar com chave pública\n",
        "cifrado = public_key.encrypt(\n",
        "    mensagem,\n",
        "    padding.OAEP(\n",
        "        mgf=padding.MGF1(algorithm=hashes.SHA256()),\n",
        "        algorithm=hashes.SHA256(),\n",
        "        label=None\n",
        "    )\n",
        ")\n",
        "\n",
        "# Extrair números das chaves\n",
        "private_numbers = private_key.private_numbers()\n",
        "public_numbers = public_key.public_numbers()\n",
        "\n",
        "# Chave privada (expoente d)\n",
        "private_bytes = private_numbers.d.to_bytes((private_numbers.d.bit_length() + 7) // 8, \"big\")\n",
        "# Chave pública (módulo n)\n",
        "public_bytes = public_numbers.n.to_bytes((public_numbers.n.bit_length() + 7) // 8, \"big\")\n",
        "\n",
        "print(\"Private Key (base64):\", base64.b64encode(private_bytes).decode())\n",
        "print(\"Public Key (base64):\", base64.b64encode(public_bytes).decode())\n",
        "print(\"Texto cifrado:\", cifrado)\n",
        "\n",
        "# 5️⃣ Decifrar com chave privada\n",
        "decifrado = private_key.decrypt(\n",
        "    cifrado,\n",
        "    padding.OAEP(\n",
        "        mgf=padding.MGF1(algorithm=hashes.SHA256()),\n",
        "        algorithm=hashes.SHA256(),\n",
        "        label=None\n",
        "    )\n",
        ")\n",
        "print(\"Texto decifrado:\", decifrado.decode(\"utf-8\"))"
      ]
    },
    {
      "cell_type": "markdown",
      "metadata": {
        "id": "90J8AJ4cGrm8"
      },
      "source": [
        "### ECC"
      ]
    },
    {
      "cell_type": "markdown",
      "metadata": {
        "id": "0UAZ1xQdGuLl"
      },
      "source": [
        "A Elliptic Curve Cryptography (ECC) é uma forma avançada de criptografia de chave assimétrica, baseada em propriedades matemáticas de curvas elípticas sobre corpos finitos. Assim como outros algoritmos de chave pública, a ECC usa duas chaves distintas:\n",
        "\n",
        "A principal inovação da ECC é que ela oferece alta segurança com chaves menores, comparadas a algoritmos como RSA. Isso significa que o mesmo nível de segurança pode ser alcançado com menos processamento e menos espaço de armazenamento.\n",
        "\n",
        "Uma curva elíptica é definida pela equação:\n",
        "\n",
        "y^2 = x^3 + a*x + b\n",
        "\n",
        "onde a e b são coeficientes que garantem que a curva não tenha pontos singulares. Na criptografia, a curva é escolhida sobre um campo finito (normalmente F_p, números módulo primo p), o que limita os valores possíveis de x e y.\n",
        "\n",
        "Operações básicas na curva\n",
        "\n",
        "- **Ponto gerador G**: um ponto específico na curva usado para gerar chaves.  \n",
        "- **Multiplicação de ponto**: operação central da ECC, usada para gerar a chave pública K = k * G, onde k é a chave privada.  \n",
        "- **Problema do logaritmo discreto elíptico (ECDLP)**: dado G e K = k * G, é computacionalmente inviável determinar k. Esse é o pilar da segurança da ECC.\n",
        "\n",
        "Funcionamento do algoritmo\n",
        "\n",
        "1º Passo geração de chaves:\n",
        "- Escolhe-se uma curva elíptica segura e um ponto gerador G.  \n",
        "- Gera-se uma chave privada k aleatória.  \n",
        "- Calcula-se a chave pública K = k * G.\n",
        "\n",
        "2º Passo 2 ciframento (ECDH - Elliptic Curve Diffie-Hellman)\n",
        "- Dois usuários (Alice e Bob) querem compartilhar uma chave simétrica.\n",
        "- Alice envia K_A = k_A * G a Bob.  \n",
        "- Bob envia K_B = k_B * G a Alice.  \n",
        "- Cada um calcula a chave compartilhada:\n",
        "\n",
        "  S = k_A * K_B = k_A * k_B * G = k_B * K_A\n",
        "\n",
        "Agora ambos têm a mesma chave secreta, que pode ser usada para cifrar dados com algoritmos simétricos (AES ou ChaCha20).\n",
        "\n",
        "3º Passo assinatura digital (ECDSA)\n",
        "- **Assinatura de uma mensagem**: calcula-se o hash da mensagem e usa-se a chave privada para gerar a assinatura com operações na curva.  \n",
        "- **Verificação**: a chave pública e a assinatura são usadas para validar o hash da mensagem. Qualquer alteração na mensagem ou assinatura resulta em falha.\n",
        "\n",
        "Aplicações práticas\n",
        "- TLS/HTTPS moderno: certificados ECC em sites seguros.\n",
        "- Assinaturas digitais: ECDSA para autenticação de software, documentos e blockchain.\n",
        "- Protocolos de troca de chaves: ECDH em VPNs, SSH e aplicações móveis.\n",
        "- Blockchain e criptomoedas: Bitcoin, Ethereum e outras usam ECC para gerar endereços e assinar transações."
      ]
    },
    {
      "cell_type": "markdown",
      "metadata": {
        "id": "rNqPspAIGmNi"
      },
      "source": [
        "#### Exemplo de código em python"
      ]
    },
    {
      "cell_type": "code",
      "execution_count": 26,
      "metadata": {
        "colab": {
          "base_uri": "https://localhost:8080/"
        },
        "id": "GOx6iujJH9yw",
        "outputId": "b53e7b56-4fb4-43fd-e55a-e24b019dd420"
      },
      "outputs": [
        {
          "name": "stdout",
          "output_type": "stream",
          "text": [
            "Assinatura ECDSA: b'0D\\x02 B,\\xc9\\x85\\x83\\xf6Y>\\xb6\\xd4U\\xeb\\xa80\\xc2]\\x8a\\xcbI\\x04\\x99L\\x8fS#U]\\xb9\\\\\\x12\\xb7t\\x02 \\x7f\\xdf\\xb5\\x1a\\x04|0wq\\x92\\xedj\\x94(\\x82_\\xd5\\xd7\\x1e}\\x00\\xb8\\x18\\xf6%\\x1c\\x9f\\x98n\\xa6\\xbe\\xac'\n",
            "Assinatura válida!\n"
          ]
        }
      ],
      "source": [
        "from cryptography.hazmat.primitives.asymmetric import ec\n",
        "from cryptography.hazmat.primitives import hashes\n",
        "from cryptography.hazmat.primitives import serialization\n",
        "\n",
        "# Gerar chave privada\n",
        "private_key = ec.generate_private_key(ec.SECP256R1())\n",
        "\n",
        "# Extrair chave pública\n",
        "public_key = private_key.public_key()\n",
        "\n",
        "# Mensagem\n",
        "mensagem = b\"Mensagem para assinar\"\n",
        "\n",
        "# Criar assinatura\n",
        "assinatura = private_key.sign(\n",
        "    mensagem,\n",
        "    ec.ECDSA(hashes.SHA256())\n",
        ")\n",
        "print(\"Assinatura ECDSA:\", assinatura)\n",
        "\n",
        "# Verificar assinatura\n",
        "try:\n",
        "    public_key.verify(\n",
        "        assinatura,\n",
        "        mensagem,\n",
        "        ec.ECDSA(hashes.SHA256())\n",
        "    )\n",
        "    print(\"Assinatura válida!\")\n",
        "except:\n",
        "    print(\"Assinatura inválida!\")"
      ]
    },
    {
      "cell_type": "markdown",
      "metadata": {
        "id": "0ohpHlY1J7A6"
      },
      "source": [
        "## Fontes\n",
        "\n",
        "https://pt.wikipedia.org/wiki/RSA_(sistema_criptogr%C3%A1fico)\n",
        "\n",
        "https://medium.com/@tarcisioma/algoritmo-de-criptografia-assim%C3%A9trica-rsa-c6254a3c7042\n",
        "\n",
        "https://en.wikipedia.org/wiki/Type_B_Cipher_Machine\n",
        "\n",
        "https://cryptoid.com.br/criptografia/aes-padrao-de-criptografia-avancado-o-que-e-e-como-funciona/\n",
        "\n",
        "https://pt.stackoverflow.com/questions/43492/como-funciona-o-algoritmo-de-criptografia-aes\n",
        "\n",
        "https://securityboulevard.com/2020/04/advanced-encryption-standard-aes-what-it-is-and-how-it-works/"
      ]
    },
    {
      "cell_type": "code",
      "execution_count": null,
      "metadata": {
        "colab": {
          "base_uri": "https://localhost:8080/"
        },
        "id": "Sd9CYAsUtTf8",
        "outputId": "22bd0b2c-8fec-4c3b-c948-29e008a2f2d9"
      },
      "outputs": [
        {
          "ename": "",
          "evalue": "",
          "output_type": "error",
          "traceback": [
            "\u001b[1;31mRunning cells with 'Python 3.12.3' requires the ipykernel package.\n",
            "\u001b[1;31m<a href='command:jupyter.createPythonEnvAndSelectController'>Create a Python Environment</a> with the required packages.\n",
            "\u001b[1;31mOr install 'ipykernel' using the command: '/usr/bin/python3 -m pip install ipykernel -U --user --force-reinstall'"
          ]
        }
      ],
      "source": [
        "!jupyter nbconvert --to pdf /content/Estudos_de_casos_de_ataque_cibenético_slide_aula_3.ipynb\n"
      ]
    }
  ],
  "metadata": {
    "colab": {
      "gpuType": "T4",
      "provenance": []
    },
    "kernelspec": {
      "display_name": "Python 3",
      "name": "python3"
    },
    "language_info": {
      "name": "python",
      "version": "3.12.3"
    }
  },
  "nbformat": 4,
  "nbformat_minor": 0
}
